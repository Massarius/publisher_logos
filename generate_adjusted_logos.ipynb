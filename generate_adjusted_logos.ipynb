{
 "cells": [
  {
   "cell_type": "code",
   "execution_count": 1,
   "metadata": {},
   "outputs": [],
   "source": [
    "import matplotlib.image as mpimg\n",
    "import matplotlib.pyplot as plt\n",
    "import numpy as np\n",
    "import os\n",
    "\n",
    "files = os.listdir()\n",
    "logos = [x for x in files if x.endswith(\".png\")]\n",
    "\n",
    "desired_ratio = 1/5\n",
    "\n",
    "for logo in logos:\n",
    "    image = mpimg.imread(logo)\n",
    "\n",
    "    dim = image.shape\n",
    "\n",
    "    h = dim[0]\n",
    "    w = dim[1]\n",
    "\n",
    "\n",
    "    if h/w > desired_ratio:\n",
    "        total_width = h / desired_ratio\n",
    "        space_width = int((total_width - w) / 2)\n",
    "        if len(dim) < 3:\n",
    "                white_space = np.full((h, space_width), 1)\n",
    "        else:\n",
    "            if dim[2] == 3:\n",
    "                opacity = np.full((dim[0], dim[1], 1), 1)\n",
    "                image = np.concatenate((image, opacity), axis=2)\n",
    "            \n",
    "            white_space = np.full((h, space_width, 4), 0)\n",
    "        image = np.concatenate((white_space, image, white_space), axis=1)\n",
    "    \n",
    "    plt.imsave(\"adjusted/\" + '.'.join(logo.split('.')[:-1]) + \"_adjusted.png\", image)\n",
    "\n"
   ]
  }
 ],
 "metadata": {
  "kernelspec": {
   "display_name": "publisher-logos-Hn2qRXon-py3.10",
   "language": "python",
   "name": "python3"
  },
  "language_info": {
   "codemirror_mode": {
    "name": "ipython",
    "version": 3
   },
   "file_extension": ".py",
   "mimetype": "text/x-python",
   "name": "python",
   "nbconvert_exporter": "python",
   "pygments_lexer": "ipython3",
   "version": "3.10.12"
  },
  "orig_nbformat": 4
 },
 "nbformat": 4,
 "nbformat_minor": 2
}
